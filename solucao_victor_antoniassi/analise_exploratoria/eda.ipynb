{
 "cells": [
  {
   "cell_type": "code",
   "execution_count": 1,
   "id": "f2e9b41a-9bed-4dc1-89dd-2c327b9797f9",
   "metadata": {},
   "outputs": [],
   "source": [
    "import duckdb\n",
    "import pandas as pd\n",
    "\n",
    "%reload_ext sql"
   ]
  },
  {
   "cell_type": "code",
   "execution_count": 24,
   "id": "2601ab75-2d31-400b-a41d-be569bab9fae",
   "metadata": {},
   "outputs": [
    {
     "ename": "UnicodeDecodeError",
     "evalue": "'utf-8' codec can't decode byte 0xe3 in position 131: invalid continuation byte",
     "output_type": "error",
     "traceback": [
      "\u001b[1;31m---------------------------------------------------------------------------\u001b[0m",
      "\u001b[1;31mUnicodeDecodeError\u001b[0m                        Traceback (most recent call last)",
      "Cell \u001b[1;32mIn[24], line 5\u001b[0m\n\u001b[0;32m      2\u001b[0m conn \u001b[38;5;241m=\u001b[39m duckdb\u001b[38;5;241m.\u001b[39mconnect(database\u001b[38;5;241m=\u001b[39m\u001b[38;5;124m'\u001b[39m\u001b[38;5;124m:memory:\u001b[39m\u001b[38;5;124m'\u001b[39m, read_only\u001b[38;5;241m=\u001b[39m\u001b[38;5;28;01mFalse\u001b[39;00m)\n\u001b[0;32m      4\u001b[0m \u001b[38;5;66;03m# Anexe o banco de dados SQLite ao DuckDB\u001b[39;00m\n\u001b[1;32m----> 5\u001b[0m conn\u001b[38;5;241m.\u001b[39mexecute(\u001b[38;5;124m\"\u001b[39m\u001b[38;5;124mATTACH DATABASE \u001b[39m\u001b[38;5;124m'\u001b[39m\u001b[38;5;124mdata_analytics_jr_test/solucao_victor_antoniassi/sqlite_database/escolas_educandos_sqlite\u001b[39m\u001b[38;5;124m'\u001b[39m\u001b[38;5;124m AS db\u001b[39m\u001b[38;5;124m\"\u001b[39m)\n\u001b[0;32m      7\u001b[0m \u001b[38;5;66;03m# Execute uma consulta SQL no DuckDB que acessa os dados do SQLite\u001b[39;00m\n\u001b[0;32m      8\u001b[0m result \u001b[38;5;241m=\u001b[39m conn\u001b[38;5;241m.\u001b[39mexecute(\u001b[38;5;124m\"\u001b[39m\u001b[38;5;124mSELECT * FROM db.escolas\u001b[39m\u001b[38;5;124m\"\u001b[39m)\n",
      "\u001b[1;31mUnicodeDecodeError\u001b[0m: 'utf-8' codec can't decode byte 0xe3 in position 131: invalid continuation byte"
     ]
    }
   ],
   "source": [
    "# Crie uma conexão com o DuckDB\n",
    "conn = duckdb.connect(database=':memory:', read_only=False)\n",
    "\n",
    "# Anexe o banco de dados SQLite ao DuckDB\n",
    "conn.execute(\"ATTACH DATABASE 'data_analytics_jr_test/solucao_victor_antoniassi/sqlite_database/escolas_educandos_sqlite' AS db\")\n",
    "\n",
    "# Execute uma consulta SQL no DuckDB que acessa os dados do SQLite\n",
    "result = conn.execute(\"SELECT * FROM db.escolas\")\n",
    "\n",
    "# Converta o resultado em um DataFrame do Pandas\n",
    "df = result.fetchdf()"
   ]
  },
  {
   "cell_type": "code",
   "execution_count": null,
   "id": "41dc8aa6-80d0-4ba8-97a9-07174210f6ae",
   "metadata": {},
   "outputs": [],
   "source": [
    "import sqlite3\n",
    "import pandas as pd\n",
    "import chardet\n",
    "\n",
    "# Conecte-se ao banco de dados SQLite\n",
    "conn = sqlite3.connect('escolas_educandos_sqlite.db')\n",
    "\n",
    "# Nome da tabela que você deseja examinar\n",
    "table_name = 'educandos'\n",
    "\n",
    "# Execute uma consulta para obter todos os dados de uma tabela específica\n",
    "cur = conn.cursor()\n",
    "cur.execute(f\"SELECT * FROM {table_name}\")\n",
    "\n",
    "# Obtenha os dados como uma lista de tuplas\n",
    "data = cur.fetchall()\n",
    "\n",
    "# Converta os dados para uma string\n",
    "data_str = str(data)\n",
    "\n",
    "# Detecte a codificação dos dados\n",
    "encoding = chardet.detect(data_str.encode())['encoding']\n",
    "\n",
    "print(f'A codificação dos dados na tabela \"{table_name}\" é: {encoding}')\n",
    "\n",
    "# Feche a conexão\n",
    "conn.close()"
   ]
  },
  {
   "cell_type": "code",
   "execution_count": null,
   "id": "0dab8303-8a91-46b2-b8b7-db8853dc3775",
   "metadata": {},
   "outputs": [],
   "source": []
  },
  {
   "cell_type": "code",
   "execution_count": null,
   "id": "3a518711-9044-43a8-beab-99f0cba81cd7",
   "metadata": {},
   "outputs": [],
   "source": []
  }
 ],
 "metadata": {
  "kernelspec": {
   "display_name": "Python 3 (ipykernel)",
   "language": "python",
   "name": "python3"
  },
  "language_info": {
   "codemirror_mode": {
    "name": "ipython",
    "version": 3
   },
   "file_extension": ".py",
   "mimetype": "text/x-python",
   "name": "python",
   "nbconvert_exporter": "python",
   "pygments_lexer": "ipython3",
   "version": "3.12.2"
  }
 },
 "nbformat": 4,
 "nbformat_minor": 5
}
